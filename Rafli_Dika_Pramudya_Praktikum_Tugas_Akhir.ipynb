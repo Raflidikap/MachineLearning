{
  "nbformat": 4,
  "nbformat_minor": 0,
  "metadata": {
    "colab": {
      "provenance": [],
      "collapsed_sections": [],
      "include_colab_link": true
    },
    "kernelspec": {
      "name": "python3",
      "display_name": "Python 3"
    },
    "language_info": {
      "name": "python"
    }
  },
  "cells": [
    {
      "cell_type": "markdown",
      "metadata": {
        "id": "view-in-github",
        "colab_type": "text"
      },
      "source": [
        "<a href=\"https://colab.research.google.com/github/Raflidikap/MachineLearning/blob/main/Rafli_Dika_Pramudya_Praktikum_Tugas_Akhir.ipynb\" target=\"_parent\"><img src=\"https://colab.research.google.com/assets/colab-badge.svg\" alt=\"Open In Colab\"/></a>"
      ]
    },
    {
      "cell_type": "markdown",
      "source": [
        "Hai semuanya, pada kesempatan ini kalian akan mengerjakan tugas akhir berupa praktikum analisis data menggunakan PySpark.\n",
        "\n",
        "Semangat Belajar dan Jangan menyerah :)"
      ],
      "metadata": {
        "id": "GePxdrQji13H"
      }
    },
    {
      "cell_type": "markdown",
      "source": [
        "Silahkan download data berikut\n",
        "https://drive.google.com/drive/folders/1NhEG9zRplX6QXnwhk9-QJxV1hmzpknGD?usp=sharing\n",
        "\n",
        "dan masukan ke dalam google drive anda "
      ],
      "metadata": {
        "id": "NDdkAXsloDIJ"
      }
    },
    {
      "cell_type": "markdown",
      "source": [
        "**1. Silahkan install PySpark**"
      ],
      "metadata": {
        "id": "Hwy6zvcnoPkX"
      }
    },
    {
      "cell_type": "code",
      "source": [
        "!pip install pyspark py4j"
      ],
      "metadata": {
        "id": "dPxja1Q8jY3l",
        "colab": {
          "base_uri": "https://localhost:8080/"
        },
        "outputId": "5de7be42-a94e-4a13-c3a6-116fbe278b9a"
      },
      "execution_count": 47,
      "outputs": [
        {
          "output_type": "stream",
          "name": "stdout",
          "text": [
            "Looking in indexes: https://pypi.org/simple, https://us-python.pkg.dev/colab-wheels/public/simple/\n",
            "Requirement already satisfied: pyspark in /usr/local/lib/python3.7/dist-packages (3.3.1)\n",
            "Requirement already satisfied: py4j in /usr/local/lib/python3.7/dist-packages (0.10.9.5)\n"
          ]
        }
      ]
    },
    {
      "cell_type": "markdown",
      "source": [
        "**2. Silahkan Mengcreate Spark Session**"
      ],
      "metadata": {
        "id": "5eqbGQ06oZBg"
      }
    },
    {
      "cell_type": "code",
      "source": [
        "from pyspark.sql import SparkSession\n",
        "spark = SparkSession.builder.appName(\"Spark-Mall_App\").getOrCreate()\n",
        "spark"
      ],
      "metadata": {
        "id": "Rf2y4rb8oYp3",
        "colab": {
          "base_uri": "https://localhost:8080/",
          "height": 219
        },
        "outputId": "4e05866e-3edd-44f8-b9b4-01cfc5c12a86"
      },
      "execution_count": 48,
      "outputs": [
        {
          "output_type": "execute_result",
          "data": {
            "text/plain": [
              "<pyspark.sql.session.SparkSession at 0x7f31e8a164d0>"
            ],
            "text/html": [
              "\n",
              "            <div>\n",
              "                <p><b>SparkSession - in-memory</b></p>\n",
              "                \n",
              "        <div>\n",
              "            <p><b>SparkContext</b></p>\n",
              "\n",
              "            <p><a href=\"http://b3e95a45c4b8:4040\">Spark UI</a></p>\n",
              "\n",
              "            <dl>\n",
              "              <dt>Version</dt>\n",
              "                <dd><code>v3.3.1</code></dd>\n",
              "              <dt>Master</dt>\n",
              "                <dd><code>local[*]</code></dd>\n",
              "              <dt>AppName</dt>\n",
              "                <dd><code>Spark-Mall_App</code></dd>\n",
              "            </dl>\n",
              "        </div>\n",
              "        \n",
              "            </div>\n",
              "        "
            ]
          },
          "metadata": {},
          "execution_count": 48
        }
      ]
    },
    {
      "cell_type": "markdown",
      "source": [
        "**3. Masukan data yang telah di download pada google drive**"
      ],
      "metadata": {
        "id": "_Jh8ywhwpCOR"
      }
    },
    {
      "cell_type": "code",
      "source": [
        "from google.colab import drive\n",
        "drive.mount('/content/gdrive')\n",
        "df = spark.read.csv('/content/gdrive/MyDrive/Colab Notebooks/Bisa.AI/mall.csv', header=True, inferSchema=True)"
      ],
      "metadata": {
        "id": "Gapyw1XuovZX",
        "colab": {
          "base_uri": "https://localhost:8080/"
        },
        "outputId": "abc08b96-0753-4df3-9e3c-a7145139c9b1"
      },
      "execution_count": 49,
      "outputs": [
        {
          "output_type": "stream",
          "name": "stdout",
          "text": [
            "Drive already mounted at /content/gdrive; to attempt to forcibly remount, call drive.mount(\"/content/gdrive\", force_remount=True).\n"
          ]
        }
      ]
    },
    {
      "cell_type": "markdown",
      "source": [
        "**4. Buat Perintah yang dapat menampilkan tipe data pada setiap kolom**"
      ],
      "metadata": {
        "id": "mX-e1aeepSpt"
      }
    },
    {
      "cell_type": "code",
      "source": [
        "df.printSchema()"
      ],
      "metadata": {
        "id": "GtOSZJkjpbhy",
        "colab": {
          "base_uri": "https://localhost:8080/"
        },
        "outputId": "b25d64f0-6cdd-44e4-e97d-b6cfef9bf0f9"
      },
      "execution_count": 50,
      "outputs": [
        {
          "output_type": "stream",
          "name": "stdout",
          "text": [
            "root\n",
            " |-- CustomerID: integer (nullable = true)\n",
            " |-- Gender: string (nullable = true)\n",
            " |-- Age: integer (nullable = true)\n",
            " |-- Annual Income (k$): integer (nullable = true)\n",
            " |-- Spending Score (1-100): integer (nullable = true)\n",
            "\n"
          ]
        }
      ]
    },
    {
      "cell_type": "markdown",
      "source": [
        "**5. Buat perintah yang dapat menampilkan nama kolom, jumlah baris, dan jumlah kolom**"
      ],
      "metadata": {
        "id": "CTMXUWRipb-n"
      }
    },
    {
      "cell_type": "code",
      "source": [
        "df.columns"
      ],
      "metadata": {
        "id": "ZGQpqDVXppsG",
        "colab": {
          "base_uri": "https://localhost:8080/"
        },
        "outputId": "25903a76-0751-41af-eace-2b4d71d1a77e"
      },
      "execution_count": 51,
      "outputs": [
        {
          "output_type": "execute_result",
          "data": {
            "text/plain": [
              "['CustomerID', 'Gender', 'Age', 'Annual Income (k$)', 'Spending Score (1-100)']"
            ]
          },
          "metadata": {},
          "execution_count": 51
        }
      ]
    },
    {
      "cell_type": "code",
      "source": [
        "print(f\"Jumlah baris data : {df.count()}\")"
      ],
      "metadata": {
        "colab": {
          "base_uri": "https://localhost:8080/"
        },
        "id": "FXILRmuegUbn",
        "outputId": "39f82e6a-8030-4cef-f8ca-e16d9ef3a6a4"
      },
      "execution_count": 52,
      "outputs": [
        {
          "output_type": "stream",
          "name": "stdout",
          "text": [
            "Jumlah baris data : 200\n"
          ]
        }
      ]
    },
    {
      "cell_type": "code",
      "source": [
        "print(f\"Jumlah kolom : {len(df.columns)}\")"
      ],
      "metadata": {
        "colab": {
          "base_uri": "https://localhost:8080/"
        },
        "id": "7Ni4H5E1gXPh",
        "outputId": "7a579df7-e839-49d6-f26f-a47923720877"
      },
      "execution_count": 53,
      "outputs": [
        {
          "output_type": "stream",
          "name": "stdout",
          "text": [
            "Jumlah kolom : 5\n"
          ]
        }
      ]
    },
    {
      "cell_type": "markdown",
      "source": [
        "**6. Buat perintah yang dapat menampilkan statistik data pada setiap kolom**"
      ],
      "metadata": {
        "id": "lXK4vu7iplVY"
      }
    },
    {
      "cell_type": "code",
      "source": [
        "df.describe().show()"
      ],
      "metadata": {
        "id": "iIsEnLUPp0Cu",
        "colab": {
          "base_uri": "https://localhost:8080/"
        },
        "outputId": "d5ea209a-508e-4967-8bde-b275ecc3790a"
      },
      "execution_count": 54,
      "outputs": [
        {
          "output_type": "stream",
          "name": "stdout",
          "text": [
            "+-------+------------------+------+-----------------+------------------+----------------------+\n",
            "|summary|        CustomerID|Gender|              Age|Annual Income (k$)|Spending Score (1-100)|\n",
            "+-------+------------------+------+-----------------+------------------+----------------------+\n",
            "|  count|               200|   200|              200|               200|                   200|\n",
            "|   mean|             100.5|  null|            38.85|             60.56|                  50.2|\n",
            "| stddev|57.879184513951124|  null|13.96900733155888| 26.26472116527124|    25.823521668370173|\n",
            "|    min|                 1|Female|               18|                15|                     1|\n",
            "|    max|               200|  Male|               70|               137|                    99|\n",
            "+-------+------------------+------+-----------------+------------------+----------------------+\n",
            "\n"
          ]
        }
      ]
    },
    {
      "cell_type": "markdown",
      "source": [
        "**7. Buat perintah yang dapat menampilkan 2 kolom**"
      ],
      "metadata": {
        "id": "DdlxMKhpp0od"
      }
    },
    {
      "cell_type": "code",
      "source": [
        "df.select('CustomerID', 'Age').show()"
      ],
      "metadata": {
        "id": "2KVe_kEzp_m9",
        "colab": {
          "base_uri": "https://localhost:8080/"
        },
        "outputId": "f3a4919a-1e01-4599-cc06-e93afa36ab39"
      },
      "execution_count": 55,
      "outputs": [
        {
          "output_type": "stream",
          "name": "stdout",
          "text": [
            "+----------+---+\n",
            "|CustomerID|Age|\n",
            "+----------+---+\n",
            "|         1| 19|\n",
            "|         2| 21|\n",
            "|         3| 20|\n",
            "|         4| 23|\n",
            "|         5| 31|\n",
            "|         6| 22|\n",
            "|         7| 35|\n",
            "|         8| 23|\n",
            "|         9| 64|\n",
            "|        10| 30|\n",
            "|        11| 67|\n",
            "|        12| 35|\n",
            "|        13| 58|\n",
            "|        14| 24|\n",
            "|        15| 37|\n",
            "|        16| 22|\n",
            "|        17| 35|\n",
            "|        18| 20|\n",
            "|        19| 52|\n",
            "|        20| 35|\n",
            "+----------+---+\n",
            "only showing top 20 rows\n",
            "\n"
          ]
        }
      ]
    },
    {
      "cell_type": "markdown",
      "source": [
        "**8. Buat perintah yang dapat membuat kolom baru dengan menambahkan value pada nilai tabel**"
      ],
      "metadata": {
        "id": "LkK0pTbjqACN"
      }
    },
    {
      "cell_type": "code",
      "source": [
        "df.withColumn('Age_Now', df.Age+2).show()"
      ],
      "metadata": {
        "id": "PiM4BvSQqMh2",
        "colab": {
          "base_uri": "https://localhost:8080/"
        },
        "outputId": "99df375a-ac5e-468e-eb93-6adc12d2e0a2"
      },
      "execution_count": 56,
      "outputs": [
        {
          "output_type": "stream",
          "name": "stdout",
          "text": [
            "+----------+------+---+------------------+----------------------+-------+\n",
            "|CustomerID|Gender|Age|Annual Income (k$)|Spending Score (1-100)|Age_Now|\n",
            "+----------+------+---+------------------+----------------------+-------+\n",
            "|         1|  Male| 19|                15|                    39|     21|\n",
            "|         2|  Male| 21|                15|                    81|     23|\n",
            "|         3|Female| 20|                16|                     6|     22|\n",
            "|         4|Female| 23|                16|                    77|     25|\n",
            "|         5|Female| 31|                17|                    40|     33|\n",
            "|         6|Female| 22|                17|                    76|     24|\n",
            "|         7|Female| 35|                18|                     6|     37|\n",
            "|         8|Female| 23|                18|                    94|     25|\n",
            "|         9|  Male| 64|                19|                     3|     66|\n",
            "|        10|Female| 30|                19|                    72|     32|\n",
            "|        11|  Male| 67|                19|                    14|     69|\n",
            "|        12|Female| 35|                19|                    99|     37|\n",
            "|        13|Female| 58|                20|                    15|     60|\n",
            "|        14|Female| 24|                20|                    77|     26|\n",
            "|        15|  Male| 37|                20|                    13|     39|\n",
            "|        16|  Male| 22|                20|                    79|     24|\n",
            "|        17|Female| 35|                21|                    35|     37|\n",
            "|        18|  Male| 20|                21|                    66|     22|\n",
            "|        19|  Male| 52|                23|                    29|     54|\n",
            "|        20|Female| 35|                23|                    98|     37|\n",
            "+----------+------+---+------------------+----------------------+-------+\n",
            "only showing top 20 rows\n",
            "\n"
          ]
        }
      ]
    },
    {
      "cell_type": "markdown",
      "source": [
        "**9. Buat perintah yang dapat melakukan perubahan pada nama kolom**"
      ],
      "metadata": {
        "id": "WhZ1ydvyqM4G"
      }
    },
    {
      "cell_type": "code",
      "source": [
        "df.withColumnRenamed('Age', 'Age_Was').show()"
      ],
      "metadata": {
        "id": "yMRgTMkhqcTH",
        "colab": {
          "base_uri": "https://localhost:8080/"
        },
        "outputId": "11d7e88a-200b-4247-8adb-ca6afb86f062"
      },
      "execution_count": 57,
      "outputs": [
        {
          "output_type": "stream",
          "name": "stdout",
          "text": [
            "+----------+------+-------+------------------+----------------------+\n",
            "|CustomerID|Gender|Age_Was|Annual Income (k$)|Spending Score (1-100)|\n",
            "+----------+------+-------+------------------+----------------------+\n",
            "|         1|  Male|     19|                15|                    39|\n",
            "|         2|  Male|     21|                15|                    81|\n",
            "|         3|Female|     20|                16|                     6|\n",
            "|         4|Female|     23|                16|                    77|\n",
            "|         5|Female|     31|                17|                    40|\n",
            "|         6|Female|     22|                17|                    76|\n",
            "|         7|Female|     35|                18|                     6|\n",
            "|         8|Female|     23|                18|                    94|\n",
            "|         9|  Male|     64|                19|                     3|\n",
            "|        10|Female|     30|                19|                    72|\n",
            "|        11|  Male|     67|                19|                    14|\n",
            "|        12|Female|     35|                19|                    99|\n",
            "|        13|Female|     58|                20|                    15|\n",
            "|        14|Female|     24|                20|                    77|\n",
            "|        15|  Male|     37|                20|                    13|\n",
            "|        16|  Male|     22|                20|                    79|\n",
            "|        17|Female|     35|                21|                    35|\n",
            "|        18|  Male|     20|                21|                    66|\n",
            "|        19|  Male|     52|                23|                    29|\n",
            "|        20|Female|     35|                23|                    98|\n",
            "+----------+------+-------+------------------+----------------------+\n",
            "only showing top 20 rows\n",
            "\n"
          ]
        }
      ]
    },
    {
      "cell_type": "markdown",
      "source": [
        "**10. Buat Perintah yang dapat melakukan filter data pada salah satu kolom**"
      ],
      "metadata": {
        "id": "zqNPg3KQqi4N"
      }
    },
    {
      "cell_type": "code",
      "source": [
        "df.filter(df['Age'] > 25).show()"
      ],
      "metadata": {
        "id": "yCcxP2TcqsC1",
        "colab": {
          "base_uri": "https://localhost:8080/"
        },
        "outputId": "c8f69de6-3e3e-4dbe-b742-3d6e14c7637e"
      },
      "execution_count": 58,
      "outputs": [
        {
          "output_type": "stream",
          "name": "stdout",
          "text": [
            "+----------+------+---+------------------+----------------------+\n",
            "|CustomerID|Gender|Age|Annual Income (k$)|Spending Score (1-100)|\n",
            "+----------+------+---+------------------+----------------------+\n",
            "|         5|Female| 31|                17|                    40|\n",
            "|         7|Female| 35|                18|                     6|\n",
            "|         9|  Male| 64|                19|                     3|\n",
            "|        10|Female| 30|                19|                    72|\n",
            "|        11|  Male| 67|                19|                    14|\n",
            "|        12|Female| 35|                19|                    99|\n",
            "|        13|Female| 58|                20|                    15|\n",
            "|        15|  Male| 37|                20|                    13|\n",
            "|        17|Female| 35|                21|                    35|\n",
            "|        19|  Male| 52|                23|                    29|\n",
            "|        20|Female| 35|                23|                    98|\n",
            "|        21|  Male| 35|                24|                    35|\n",
            "|        23|Female| 46|                25|                     5|\n",
            "|        24|  Male| 31|                25|                    73|\n",
            "|        25|Female| 54|                28|                    14|\n",
            "|        26|  Male| 29|                28|                    82|\n",
            "|        27|Female| 45|                28|                    32|\n",
            "|        28|  Male| 35|                28|                    61|\n",
            "|        29|Female| 40|                29|                    31|\n",
            "|        31|  Male| 60|                30|                     4|\n",
            "+----------+------+---+------------------+----------------------+\n",
            "only showing top 20 rows\n",
            "\n"
          ]
        }
      ]
    },
    {
      "cell_type": "markdown",
      "source": [
        "**11. Silahkan lakukan penampahan nilai data jika terdapat data kosong pada dataframe**"
      ],
      "metadata": {
        "id": "nhaDlPl4rBi_"
      }
    },
    {
      "cell_type": "code",
      "source": [],
      "metadata": {
        "id": "UY5BTeWNrLwu"
      },
      "execution_count": 58,
      "outputs": []
    },
    {
      "cell_type": "markdown",
      "source": [
        "**12. Silahkan lakukan visualisasi data untuk salah satu kolom**"
      ],
      "metadata": {
        "id": "HbrL5tYIq1og"
      }
    },
    {
      "cell_type": "code",
      "source": [],
      "metadata": {
        "id": "frjdKQ_-q-tV"
      },
      "execution_count": 58,
      "outputs": []
    }
  ]
}