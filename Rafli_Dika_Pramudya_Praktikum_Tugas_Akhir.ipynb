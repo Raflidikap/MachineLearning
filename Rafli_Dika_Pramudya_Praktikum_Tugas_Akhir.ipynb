{
  "nbformat": 4,
  "nbformat_minor": 0,
  "metadata": {
    "colab": {
      "provenance": [],
      "collapsed_sections": [],
      "include_colab_link": true
    },
    "kernelspec": {
      "name": "python3",
      "display_name": "Python 3"
    },
    "language_info": {
      "name": "python"
    }
  },
  "cells": [
    {
      "cell_type": "markdown",
      "metadata": {
        "id": "view-in-github",
        "colab_type": "text"
      },
      "source": [
        "<a href=\"https://colab.research.google.com/github/Raflidikap/MachineLearning/blob/main/Rafli_Dika_Pramudya_Praktikum_Tugas_Akhir.ipynb\" target=\"_parent\"><img src=\"https://colab.research.google.com/assets/colab-badge.svg\" alt=\"Open In Colab\"/></a>"
      ]
    },
    {
      "cell_type": "markdown",
      "source": [
        "Hai semuanya, pada kesempatan ini kalian akan mengerjakan tugas akhir berupa praktikum analisis data menggunakan PySpark.\n",
        "\n",
        "Semangat Belajar dan Jangan menyerah :)"
      ],
      "metadata": {
        "id": "GePxdrQji13H"
      }
    },
    {
      "cell_type": "markdown",
      "source": [
        "Silahkan download data berikut\n",
        "https://drive.google.com/drive/folders/1NhEG9zRplX6QXnwhk9-QJxV1hmzpknGD?usp=sharing\n",
        "\n",
        "dan masukan ke dalam google drive anda "
      ],
      "metadata": {
        "id": "NDdkAXsloDIJ"
      }
    },
    {
      "cell_type": "markdown",
      "source": [
        "**1. Silahkan install PySpark**"
      ],
      "metadata": {
        "id": "Hwy6zvcnoPkX"
      }
    },
    {
      "cell_type": "code",
      "source": [],
      "metadata": {
        "id": "dPxja1Q8jY3l"
      },
      "execution_count": null,
      "outputs": []
    },
    {
      "cell_type": "markdown",
      "source": [
        "**2. Silahkan Mengcreate Spark Session**"
      ],
      "metadata": {
        "id": "5eqbGQ06oZBg"
      }
    },
    {
      "cell_type": "code",
      "source": [],
      "metadata": {
        "id": "Rf2y4rb8oYp3"
      },
      "execution_count": null,
      "outputs": []
    },
    {
      "cell_type": "markdown",
      "source": [
        "**3. Masukan data yang telah di download pada google drive**"
      ],
      "metadata": {
        "id": "_Jh8ywhwpCOR"
      }
    },
    {
      "cell_type": "code",
      "source": [],
      "metadata": {
        "id": "Gapyw1XuovZX"
      },
      "execution_count": null,
      "outputs": []
    },
    {
      "cell_type": "markdown",
      "source": [
        "**4. Buat Perintah yang dapat menampilkan tipe data pada setiap kolom**"
      ],
      "metadata": {
        "id": "mX-e1aeepSpt"
      }
    },
    {
      "cell_type": "code",
      "source": [],
      "metadata": {
        "id": "GtOSZJkjpbhy"
      },
      "execution_count": null,
      "outputs": []
    },
    {
      "cell_type": "markdown",
      "source": [
        "**5. Buat perintah yang dapat menampilkan nama kolom, jumlah baris, dan jumlah kolom**"
      ],
      "metadata": {
        "id": "CTMXUWRipb-n"
      }
    },
    {
      "cell_type": "code",
      "source": [],
      "metadata": {
        "id": "ZGQpqDVXppsG"
      },
      "execution_count": null,
      "outputs": []
    },
    {
      "cell_type": "markdown",
      "source": [
        "**6. Buat perintah yang dapat menampilkan statistik data pada setiap kolom**"
      ],
      "metadata": {
        "id": "lXK4vu7iplVY"
      }
    },
    {
      "cell_type": "code",
      "source": [],
      "metadata": {
        "id": "iIsEnLUPp0Cu"
      },
      "execution_count": null,
      "outputs": []
    },
    {
      "cell_type": "markdown",
      "source": [
        "**7. Buat perintah yang dapat menampilkan 2 kolom**"
      ],
      "metadata": {
        "id": "DdlxMKhpp0od"
      }
    },
    {
      "cell_type": "code",
      "source": [],
      "metadata": {
        "id": "2KVe_kEzp_m9"
      },
      "execution_count": null,
      "outputs": []
    },
    {
      "cell_type": "markdown",
      "source": [
        "**8. Buat perintah yang dapat membuat kolom baru dengan menambahkan value pada nilai tabel**"
      ],
      "metadata": {
        "id": "LkK0pTbjqACN"
      }
    },
    {
      "cell_type": "code",
      "source": [],
      "metadata": {
        "id": "PiM4BvSQqMh2"
      },
      "execution_count": null,
      "outputs": []
    },
    {
      "cell_type": "markdown",
      "source": [
        "**9. Buat perintah yang dapat melakukan perubahan pada nama kolom**"
      ],
      "metadata": {
        "id": "WhZ1ydvyqM4G"
      }
    },
    {
      "cell_type": "code",
      "source": [],
      "metadata": {
        "id": "yMRgTMkhqcTH"
      },
      "execution_count": null,
      "outputs": []
    },
    {
      "cell_type": "markdown",
      "source": [
        "**10. Buat Perintah yang dapat melakukan filter data pada salah satu kolom**"
      ],
      "metadata": {
        "id": "zqNPg3KQqi4N"
      }
    },
    {
      "cell_type": "code",
      "source": [],
      "metadata": {
        "id": "yCcxP2TcqsC1"
      },
      "execution_count": null,
      "outputs": []
    },
    {
      "cell_type": "markdown",
      "source": [
        "**11. Silahkan lakukan penampahan nilai data jika terdapat data kosong pada dataframe**"
      ],
      "metadata": {
        "id": "nhaDlPl4rBi_"
      }
    },
    {
      "cell_type": "code",
      "source": [],
      "metadata": {
        "id": "UY5BTeWNrLwu"
      },
      "execution_count": null,
      "outputs": []
    },
    {
      "cell_type": "markdown",
      "source": [
        "**12. Silahkan lakukan visualisasi data untuk salah satu kolom**"
      ],
      "metadata": {
        "id": "HbrL5tYIq1og"
      }
    },
    {
      "cell_type": "code",
      "source": [],
      "metadata": {
        "id": "frjdKQ_-q-tV"
      },
      "execution_count": null,
      "outputs": []
    }
  ]
}